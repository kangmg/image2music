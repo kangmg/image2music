{
 "cells": [
  {
   "cell_type": "code",
   "execution_count": 15,
   "metadata": {},
   "outputs": [],
   "source": [
    "from selenium import webdriver\n",
    "from selenium.webdriver.common.by import By\n",
    "from selenium.webdriver.chrome.options import Options\n",
    "import os\n",
    "from time import sleep\n",
    "from tqdm.auto import tqdm\n",
    "import random\n",
    "import pandas as pd"
   ]
  },
  {
   "cell_type": "code",
   "execution_count": 16,
   "metadata": {},
   "outputs": [],
   "source": [
    "TOP_MUSIC_URL =  lambda year_param, page_param, pop : f\"https://www.melon.com/chart/age/index.htm?chartType=YE&chartGenre={pop}&chartDate={year_param}#params%5Bidx%5D={page_param}\"\n",
    "\n",
    "def random_sleep(t_range=(2, 5)):\n",
    "  time2sleep = random.uniform(*t_range)\n",
    "  sleep(time2sleep)\n",
    "\n",
    "def get_music_info(tr_web_element, year=None)->dict:\n",
    "  '''\n",
    "  Description\n",
    "  -----------\n",
    "  melon에서 곡에 대한 webdriver element를 입력받고 이미지, 가수, 노래 제목을 parsing & formatting 해주는 함수\n",
    "  \n",
    "  Parameters\n",
    "  ----------\n",
    "  tr_web_element : melon에서 곡에 대한 webdriver element\n",
    "  year : 해당 곡이 Top music에 포함된 년도\n",
    "  \n",
    "  Returns\n",
    "  -------\n",
    "  곡 정보(dict) : {\n",
    "    \"Image\" : url,\n",
    "    \"artist\" : name,\n",
    "    \"title\" : music name\n",
    "  }\n",
    "  '''\n",
    "  image_url = tr_web_element.find_element(By.CSS_SELECTOR, \"td > .wrap > a > img\").get_attribute(\"src\")\n",
    "  title = tr_web_element.find_element(By.CSS_SELECTOR, \".t_left > .wrap > .wrap_song_info a\").get_attribute(\"title\")\n",
    "  artist = tr_web_element.find_element(By.CSS_SELECTOR, \".t_left > .wrap > .wrap_song_info .ellipsis.rank02 > a\").text\n",
    "  return {\n",
    "    \"image_url\" : image_url,\n",
    "    \"artist\" : artist,\n",
    "    \"title\" : title,\n",
    "    \"top_year\" : year\n",
    "  }"
   ]
  },
  {
   "cell_type": "code",
   "execution_count": 10,
   "metadata": {},
   "outputs": [
    {
     "data": {
      "application/vnd.jupyter.widget-view+json": {
       "model_id": "954e5ab8b9d54e60a3521fd6c62a7662",
       "version_major": 2,
       "version_minor": 0
      },
      "text/plain": [
       "  0%|          | 0/24 [00:00<?, ?it/s]"
      ]
     },
     "metadata": {},
     "output_type": "display_data"
    },
    {
     "data": {
      "application/vnd.jupyter.widget-view+json": {
       "model_id": "f057eecbebf74d0c91ab2953a0b87407",
       "version_major": 2,
       "version_minor": 0
      },
      "text/plain": [
       "  0%|          | 0/24 [00:00<?, ?it/s]"
      ]
     },
     "metadata": {},
     "output_type": "display_data"
    }
   ],
   "source": [
    "# 파싱을 진행할 기간 설정\n",
    "period = range(2000, 2024)\n",
    "\n",
    "options = Options()\n",
    "options.add_argument(\"--headless\")  # 헤드리스 모드로 설정\n",
    "driver = webdriver.Chrome(options=options)\n",
    "driver.get('https://www.melon.com/')\n",
    "\n",
    "### ________________________ ###\n",
    "\n",
    "# 국내 음원 KPOP\n",
    "\n",
    "# 전체 정보를 담을 리스트\n",
    "music_data_kpop = list()\n",
    "\n",
    "# url을 다르게 넣어주면서 페이지 순회\n",
    "for year_param in tqdm(period):\n",
    "  for page_param in [1, 51]:\n",
    "    music_info = []\n",
    "    random_sleep()\n",
    "    url2parsing = TOP_MUSIC_URL(year_param, page_param, \"KPOP\")\n",
    "    driver.get(url2parsing)\n",
    "    random_sleep()\n",
    "    # 곡 정보들 획득\n",
    "    if page_param == 1:\n",
    "      music_web_elements = driver.find_elements(By.CSS_SELECTOR, '#frm > table > tbody > tr')[:50]\n",
    "      \n",
    "    elif page_param == 51:\n",
    "      music_web_elements = driver.find_elements(By.CSS_SELECTOR, '#frm > table > tbody > tr')[50:]\n",
    "    \n",
    "    random_sleep()\n",
    "    for web_ele in music_web_elements:\n",
    "      music_info.append(get_music_info(web_ele, year_param))\n",
    "\n",
    "    music_data_kpop.extend(music_info)\n",
    "\n",
    "# df로 저장\n",
    "pd.DataFrame(music_data_kpop).drop_duplicates().to_csv(\"melon_top_music_kpop.csv\", index=False)\n",
    "\n",
    "\n",
    "## ------------------------------------------------ ##\n",
    "\n",
    "# 해외 음원 POP\n",
    "\n",
    "# 전체 정보를 담을 리스트\n",
    "music_data_pop = list()\n",
    "\n",
    "# url을 다르게 넣어주면서 페이지 순회\n",
    "for year_param in tqdm(period):\n",
    "  for page_param in [1, 51]:\n",
    "    music_info = []\n",
    "    random_sleep()\n",
    "    url2parsing = TOP_MUSIC_URL(year_param, page_param, \"POP\")\n",
    "    driver.get(url2parsing)\n",
    "    random_sleep()\n",
    "    # 곡 정보들 획득\n",
    "    if page_param == 1:\n",
    "      music_web_elements = driver.find_elements(By.CSS_SELECTOR, '#frm > table > tbody > tr')[:50]\n",
    "      \n",
    "    elif page_param == 51:\n",
    "      music_web_elements = driver.find_elements(By.CSS_SELECTOR, '#frm > table > tbody > tr')[50:]\n",
    "    \n",
    "    random_sleep()\n",
    "    for web_ele in music_web_elements:\n",
    "      music_info.append(get_music_info(web_ele, year_param))\n",
    "\n",
    "    music_data_pop.extend(music_info)\n",
    "\n",
    "# df로 저장\n",
    "pd.DataFrame(music_data_pop).drop_duplicates().to_csv(\"test.csv\", index=False)\n",
    "\n",
    "driver.quit()"
   ]
  },
  {
   "cell_type": "code",
   "execution_count": 17,
   "metadata": {},
   "outputs": [
    {
     "data": {
      "application/vnd.jupyter.widget-view+json": {
       "model_id": "bc7e0282bbc4452da062155b941cb75e",
       "version_major": 2,
       "version_minor": 0
      },
      "text/plain": [
       "  0%|          | 0/20 [00:00<?, ?it/s]"
      ]
     },
     "metadata": {},
     "output_type": "display_data"
    },
    {
     "data": {
      "application/vnd.jupyter.widget-view+json": {
       "model_id": "0ba01445bb204a37ac595f6da74b9f5a",
       "version_major": 2,
       "version_minor": 0
      },
      "text/plain": [
       "  0%|          | 0/20 [00:00<?, ?it/s]"
      ]
     },
     "metadata": {},
     "output_type": "display_data"
    }
   ],
   "source": [
    "# 파싱을 진행할 기간 설정\n",
    "period = range(1980, 2000)\n",
    "\n",
    "options = Options()\n",
    "#options.add_argument(\"--headless\")  # 헤드리스 모드로 설정\n",
    "driver = webdriver.Chrome(options=options)\n",
    "driver.get('https://www.melon.com/')\n",
    "\n",
    "### ________________________ ###\n",
    "\n",
    "# 국내 음원 KPOP\n",
    "\n",
    "# 전체 정보를 담을 리스트\n",
    "music_data_kpop = list()\n",
    "\n",
    "# url을 다르게 넣어주면서 페이지 순회\n",
    "for year_param in tqdm(period):\n",
    "  for page_param in [1, 51]:\n",
    "    music_info = []\n",
    "    random_sleep()\n",
    "    url2parsing = TOP_MUSIC_URL(year_param, page_param, \"KPOP\")\n",
    "    try:\n",
    "      driver.get(url2parsing)\n",
    "      random_sleep()\n",
    "      # 곡 정보들 획득\n",
    "      if page_param == 1:\n",
    "        music_web_elements = driver.find_elements(By.CSS_SELECTOR, '#frm > table > tbody > tr')[:50]\n",
    "        \n",
    "      elif page_param == 51:\n",
    "        music_web_elements = driver.find_elements(By.CSS_SELECTOR, '#frm > table > tbody > tr')[50:]\n",
    "        \n",
    "      random_sleep()\n",
    "      for web_ele in music_web_elements:\n",
    "        music_info.append(get_music_info(web_ele, year_param))\n",
    "\n",
    "      music_data_kpop.extend(music_info)\n",
    "    except:\n",
    "      pass\n",
    "\n",
    "# df로 저장\n",
    "pd.DataFrame(music_data_kpop).drop_duplicates().to_csv(\"kpop_test.csv\", index=False)\n",
    "\n",
    "\n",
    "## ------------------------------------------------ ##\n",
    "\n",
    "# 해외 음원 POP\n",
    "\n",
    "# 전체 정보를 담을 리스트\n",
    "music_data_pop = list()\n",
    "\n",
    "# url을 다르게 넣어주면서 페이지 순회\n",
    "for year_param in tqdm(period):\n",
    "  for page_param in [1, 51]:\n",
    "    music_info = []\n",
    "    random_sleep()\n",
    "    url2parsing = TOP_MUSIC_URL(year_param, page_param, \"POP\")\n",
    "    try:\n",
    "      driver.get(url2parsing)\n",
    "      random_sleep()\n",
    "      # 곡 정보들 획득\n",
    "      if page_param == 1:\n",
    "        music_web_elements = driver.find_elements(By.CSS_SELECTOR, '#frm > table > tbody > tr')[:50]\n",
    "      \n",
    "      elif page_param == 51:\n",
    "        music_web_elements = driver.find_elements(By.CSS_SELECTOR, '#frm > table > tbody > tr')[50:]\n",
    "    \n",
    "      random_sleep()\n",
    "      for web_ele in music_web_elements:\n",
    "        music_info.append(get_music_info(web_ele, year_param))\n",
    "\n",
    "      music_data_pop.extend(music_info)\n",
    "    except:\n",
    "      pass\n",
    "\n",
    "# df로 저장\n",
    "pd.DataFrame(music_data_pop).drop_duplicates().to_csv(\"pop_test.csv\", index=False)\n",
    "\n",
    "driver.quit()"
   ]
  },
  {
   "cell_type": "code",
   "execution_count": 36,
   "metadata": {},
   "outputs": [],
   "source": [
    "y2000_kpop = pd.read_csv('melon_top_music_kpop.csv')\n",
    "y2000_pop = pd.read_csv('melon_top_music_pop.csv')\n",
    "y1980_kpop = pd.read_csv('kpop_test.csv')\n",
    "y1980_pop = pd.read_csv('pop_test.csv')\n",
    "\n",
    "# pop / kpop 라벨 추가\n",
    "y2000_kpop[\"class\"] = \"kpop\"\n",
    "y2000_pop[\"class\"] = \"pop\"\n",
    "y1980_kpop[\"class\"] = \"kpop\"\n",
    "y1980_pop[\"class\"] = \"pop\"\n",
    "\n",
    "\n",
    "# 병합\n",
    "pd.concat([y1980_kpop, y1980_pop, y2000_kpop, y2000_pop], axis=0).to_csv(\"top_music_meta.csv\", index=False)"
   ]
  },
  {
   "cell_type": "code",
   "execution_count": null,
   "metadata": {},
   "outputs": [],
   "source": []
  }
 ],
 "metadata": {
  "kernelspec": {
   "display_name": "Python 3",
   "language": "python",
   "name": "python3"
  },
  "language_info": {
   "codemirror_mode": {
    "name": "ipython",
    "version": 3
   },
   "file_extension": ".py",
   "mimetype": "text/x-python",
   "name": "python",
   "nbconvert_exporter": "python",
   "pygments_lexer": "ipython3",
   "version": "3.11.9"
  }
 },
 "nbformat": 4,
 "nbformat_minor": 2
}
